{
 "cells": [
  {
   "cell_type": "code",
   "execution_count": 1,
   "metadata": {},
   "outputs": [],
   "source": [
    "from tools.utils import random_bits\n",
    "from tools.AES import *\n",
    "from game.indcpa import *\n",
    "from game.int_ctxt import *\n",
    "from simulate import *"
   ]
  },
  {
   "cell_type": "code",
   "execution_count": 2,
   "metadata": {},
   "outputs": [],
   "source": [
    "key_len = 128\n",
    "block_len = 128\n",
    "aes = AES(key_len, block_len)\n",
    "\n",
    "def enc(key, m):\n",
    "\tif len(m) != 512:\n",
    "\t\treturn None\n",
    "\t\n",
    "\tce_0 = random_bits(128)\n",
    "\tcm_0 = '0'*128\n",
    "\tc = ce_0\n",
    "\tfor i in range(4):\n",
    "\t\tencrypted_block =  aes.evaluate(key, xor(ce_0,m[i*block_len: (i+1)*block_len]))\n",
    "\t\tce_0 = encrypted_block  ## updating ce_0 for ce[i-1]\n",
    "\t\tc += encrypted_block\n",
    "\n",
    "\t\tcm_i = aes.evaluate(key, xor(cm_0, m[i*block_len: (i+1)*block_len]))\n",
    "\t\tcm_0 = cm_i\n",
    "\treturn (c, cm_i)\n",
    "\n",
    "def dec(key, c):\n",
    "\tcipher, t = c\n",
    "\tif len(cipher) != 640:\n",
    "\t\treturn None\n",
    "\tcm_0 = '0'*128\n",
    "\tce_0 = cipher[:block_len]\n",
    "\tce = cipher[block_len:]\n",
    "\tm_i = str()\n",
    "\tfor i in range(4):\n",
    "\t\tdecrypted_block = xor(aes.inverse(key, ce[i*block_len: (i+1)*block_len]), ce_0) \n",
    "\t\tm_i += decrypted_block\n",
    "\t\tce_0 = ce[i*block_len: (i+1)*block_len]\n",
    "\n",
    "\t\tcm_i = aes.evaluate(key, xor(cm_0, decrypted_block))\n",
    "\t\tcm_0 = cm_i\n",
    "\tif cm_i == t:\n",
    "\t\treturn m_i\n",
    "\telse:\n",
    "\t\treturn None\n",
    "\t\n"
   ]
  },
  {
   "cell_type": "code",
   "execution_count": 4,
   "metadata": {},
   "outputs": [
    {
     "data": {
      "text/plain": [
       "False"
      ]
     },
     "execution_count": 4,
     "metadata": {},
     "output_type": "execute_result"
    }
   ],
   "source": [
    "### Is SE IND-CPA secure?\n",
    "\n",
    "game_indcpa = INDCPA(enc, dec, 128, 128, 10)\n",
    "game_indcpa._initialize()\n",
    "\n",
    "def adv(game):\n",
    "\tx = random_bits(512)\n",
    "\ty = random_bits(512)\n",
    "\n",
    "\tq1 = game.LR(x, x)\n",
    "\tc1, t1 = q1\n",
    "\n",
    "\tq2 = game.LR(x, y)\n",
    "\tc2, t2 = q2\n",
    "\n",
    "\tif t1 == t2:\n",
    "\t\treturn 1\n",
    "\telse: \n",
    "\t\treturn 0\n",
    "\t\n",
    "game_indcpa.finalize(adv(game_indcpa))\n",
    "\n"
   ]
  },
  {
   "cell_type": "code",
   "execution_count": 5,
   "metadata": {},
   "outputs": [
    {
     "name": "stdout",
     "output_type": "stream",
     "text": [
      "Pr[Left => 1] = 498 / 498 = 1.0\n",
      "\n",
      "Pr[Right => 1] = 0 / 502 = 0.0\n",
      "\n",
      "Adv(A) = -1.0\n"
     ]
    }
   ],
   "source": [
    "s = Simulate(game_indcpa, adv)\n",
    "s.simulate_INDCPA(verbose=True)"
   ]
  },
  {
   "cell_type": "code",
   "execution_count": 6,
   "metadata": {},
   "outputs": [
    {
     "data": {
      "text/plain": [
       "True"
      ]
     },
     "execution_count": 6,
     "metadata": {},
     "output_type": "execute_result"
    }
   ],
   "source": [
    "## Is SE INT-CTXT secure?\n",
    "\n",
    "game_intctxt = INTCTXT(enc, dec, 128, 20)\n",
    "game_intctxt._initialize()\n",
    "\n",
    "def adv_intctxt(game: INTCTXT):\n",
    "\tx = '0'*512\n",
    "\tcipher, tag = game.Enc(x)\n",
    "\tc_0 = '0'*128\n",
    "\tc_1 = cipher[1*128:2*128]\n",
    "\tc_2 = cipher[2*128: 3*128]\n",
    "\tc_3 = cipher[3*128 : 4*128]\n",
    "\tc_4 = cipher[4*128: 5*128]\n",
    "\tc_prime = c_0 + c_1 + c_2 + c_3 + c_4\n",
    "\tt_prime = c_4\n",
    "\n",
    "\treturn (c_prime, t_prime)\n",
    "\n",
    "game_intctxt.finalize(adv_intctxt(game_intctxt))"
   ]
  },
  {
   "cell_type": "code",
   "execution_count": 7,
   "metadata": {},
   "outputs": [
    {
     "name": "stdout",
     "output_type": "stream",
     "text": [
      "Pr[INTCTXT_AE => 1] = 1000 / 1000 = 1.0\n",
      "\n",
      "Adv(A) = 1.0\n"
     ]
    }
   ],
   "source": [
    "s = Simulate(game_intctxt, adv_intctxt)\n",
    "s.simulate_intctxt(verbose= True)"
   ]
  },
  {
   "cell_type": "code",
   "execution_count": null,
   "metadata": {},
   "outputs": [],
   "source": []
  }
 ],
 "metadata": {
  "kernelspec": {
   "display_name": "Python 3",
   "language": "python",
   "name": "python3"
  },
  "language_info": {
   "codemirror_mode": {
    "name": "ipython",
    "version": 3
   },
   "file_extension": ".py",
   "mimetype": "text/x-python",
   "name": "python",
   "nbconvert_exporter": "python",
   "pygments_lexer": "ipython3",
   "version": "3.11.5"
  }
 },
 "nbformat": 4,
 "nbformat_minor": 2
}
