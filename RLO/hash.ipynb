{
 "cells": [
  {
   "cell_type": "markdown",
   "metadata": {},
   "source": [
    "### Hash Functions\n",
    "\n",
    "This section consists of toy hash functions and the cr game. "
   ]
  },
  {
   "cell_type": "code",
   "execution_count": 1,
   "metadata": {},
   "outputs": [],
   "source": [
    "from tools.utils import xor\n",
    "from game.cr import *\n",
    "from simulate import *\n",
    "from tools.block_cipher import *"
   ]
  },
  {
   "cell_type": "code",
   "execution_count": 2,
   "metadata": {},
   "outputs": [],
   "source": [
    "def H1(K, x):\n",
    "\treturn int(x) % int(K)\n"
   ]
  },
  {
   "cell_type": "code",
   "execution_count": 3,
   "metadata": {},
   "outputs": [
    {
     "name": "stdout",
     "output_type": "stream",
     "text": [
      "True\n"
     ]
    }
   ],
   "source": [
    "E = BlockCipher(key_len = 5, block_len= 5)\n",
    "\n",
    "def H2(K, x):\n",
    "\t'''\n",
    "\tLet E: {0,1}^n * {0,1}^n -> {0,1}^n be a block cipher. \n",
    "\tLet H: {0,1}^k * {0,1}^2n -> {0,1}^n be a hash function. \n",
    "\t'''\n",
    "\n",
    "\tkey_len, block_len, message_len = 5, 5, 2*5\n",
    "\tassert len(x) == message_len, f\"Expected {message_len} got {len(x)} for messages\"\n",
    "\t\n",
    "\ty = E.evaluate(K, xor(E.evaluate(K, x[0:block_len]), x[block_len:]))\n",
    "\treturn y\n",
    "\n",
    "## Define the CR against H2 with key length 5\n",
    "game = CR(H2, 5)\n",
    "\n",
    "## Initializing the game. Note the adversary has access to the key k. \n",
    "k = game._initialize()\n",
    "\n",
    "def adv_H2(game):\n",
    "\t'''\n",
    "\tThis is the adversary against H2.\n",
    "\tDefine and efficient adversary that ouptuts two messages x1 and x1 such that H(x1) = H(x2)\n",
    "\n",
    "\tNote: Ensure that you use strings of 0s and 1s as input. \n",
    "\tEg x1 = '00000'\n",
    "\t\tx2 = '10101'\n",
    "\n",
    "\tHint: As the adversary has access to the key, the adversary can compute E_k and E_k^{-1}\n",
    "\tE_k(x) = E.block_cipher(k, x) and\n",
    "\tE_k^{-1}(c) = E.block_cipher_inverse(k, c)\n",
    "\n",
    "\t'''\t\n",
    "\t#========= Your Code goes here =======================\n",
    "\tx_1 = '0'*5 + '1'*5\n",
    "\tx2_2 = '0'*5\n",
    "\n",
    "\tx2_1 = E.inverse(k, xor(xor(E.evaluate(k, x_1[0:5]), x_1[5:]), x2_2))\n",
    "\tx_2 = x2_1 + x2_2\n",
    "\t# =====================================================\n",
    "\treturn x_1, x_2\n",
    "\n",
    "x1, x2 = adv_H2(game)\n",
    "\n",
    "print(game.finalize(x1, x2))"
   ]
  },
  {
   "cell_type": "markdown",
   "metadata": {},
   "source": [
    "### Keyless Hash Functions\n",
    "We say that H: Keys * D -> R is keyless if Keys = {$\\epsilon$}consists of just one key, the empty string."
   ]
  },
  {
   "cell_type": "code",
   "execution_count": 4,
   "metadata": {},
   "outputs": [
    {
     "name": "stdout",
     "output_type": "stream",
     "text": [
      "True\n"
     ]
    }
   ],
   "source": [
    "b = 5\n",
    "n = 7\n",
    "\n",
    "E = BlockCipher(key_len=b, block_len=n)\n",
    "\n",
    "def H3(K, x):\n",
    "\t'''\n",
    "\tLet E: {0,1}^n * {0,1}^n -> {0,1}^n be a block cipher and \n",
    "\tLet Let H: {0,1}^b+n  -> {0,1}^n be a keyless hash function defined as h(x||v) == E_x(v)\n",
    "\t'''\n",
    "\n",
    "\tkey = x[0:b]\n",
    "\tv = x[b:]\n",
    "\t\n",
    "\tassert len(key) == b \n",
    "\tassert len(v) == n\n",
    "\n",
    "\treturn E.evaluate(key, v)\n",
    "\n",
    "game = CR(H3, key_len=b)\n",
    "k = game._initialize()\n",
    "\n",
    "def adv_H3(game):\n",
    "\tx1 = '0'*b\n",
    "\tx2 = '1'*b\n",
    "\tv1 = '0'*n\n",
    "\ty = E.evaluate(key=x1, plaintext=v1)\n",
    "\tv2 = E.inverse(key= x2, ciphertext=y)\n",
    "\treturn x1+v1, x2+v2\n",
    "\n",
    "x1, x2 = adv_H3(game)\n",
    "print(game.finalize(x1,x2))"
   ]
  },
  {
   "cell_type": "markdown",
   "metadata": {},
   "source": [
    "### Homework 4 Problem 1"
   ]
  },
  {
   "cell_type": "code",
   "execution_count": 6,
   "metadata": {},
   "outputs": [
    {
     "name": "stdout",
     "output_type": "stream",
     "text": [
      "Pr[CR_H => 1] = 1000 / 1000 = 1.0\n",
      "\n",
      "Adv(A) = 1.0\n"
     ]
    }
   ],
   "source": [
    "from tools.AES import *\n",
    "\n",
    "key_len = 128\n",
    "output_len = 128\n",
    "aes = AES(key_len, block_len=128)\n",
    "\n",
    "def H_K(K, M):\n",
    "\tc_0 = '0'*128\n",
    "\tm = len(M)// key_len\n",
    "\tassert m*key_len == len(M), \"Message length has to be a multiple of 128\"\n",
    "\n",
    "\tfor i in range(m):\n",
    "\t\tB_i = aes.evaluate(K, xor(c_0, M[i*len(K): (i+1)*len(K)]))\n",
    "\t\tC_i = aes.evaluate(K, xor(B_i, M[i*len(K): (i+1)*len(K)]))\n",
    "\t\tc_0 = C_i\n",
    "\treturn C_i\n",
    "\n",
    "game = CR(H_K, key_len = 128)\n",
    "\n",
    "\n",
    "def adv_H_K(game):\n",
    "\tkey = game._initialize()\n",
    "\n",
    "\tm1 = aes.inverse( key, '0'*128)\n",
    "\tm2 = aes.inverse( key, '0'*128) + aes.inverse(key, '0'*128)\n",
    "\treturn m1, m2\n",
    "x1, x2 = adv_H_K(game)\n",
    "\n",
    "# print(game.finalize(x1, x2))\n",
    "\n",
    "s = Simulate(game, adv_H_K)\n",
    "s.simulate_cr(verbose=True)"
   ]
  },
  {
   "cell_type": "code",
   "execution_count": null,
   "metadata": {},
   "outputs": [],
   "source": []
  }
 ],
 "metadata": {
  "kernelspec": {
   "display_name": "Python 3",
   "language": "python",
   "name": "python3"
  },
  "language_info": {
   "codemirror_mode": {
    "name": "ipython",
    "version": 3
   },
   "file_extension": ".py",
   "mimetype": "text/x-python",
   "name": "python",
   "nbconvert_exporter": "python",
   "pygments_lexer": "ipython3",
   "version": "3.11.5"
  }
 },
 "nbformat": 4,
 "nbformat_minor": 2
}
