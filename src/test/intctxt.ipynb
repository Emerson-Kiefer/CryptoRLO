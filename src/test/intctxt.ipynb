{
 "cells": [
  {
   "cell_type": "code",
   "execution_count": null,
   "metadata": {},
   "outputs": [],
   "source": [
    "%pip install -i https://test.pypi.org/simple/ cryptogame==0.0.9"
   ]
  },
  {
   "cell_type": "markdown",
   "metadata": {},
   "source": [
    "# Integrity of Ciphertext (INT-CTXT)\n",
    "\n",
    "This section consists of SE IND-CPA and SE INT-CTXT security games"
   ]
  },
  {
   "cell_type": "code",
   "execution_count": null,
   "metadata": {},
   "outputs": [],
   "source": [
    "from cryptogame.tools.utils import random_bits\n",
    "from cryptogame.tools.AES import *\n",
    "from cryptogame.game.indcpa import *\n",
    "from cryptogame.game.int_ctxt import *\n",
    "from simulate import *"
   ]
  },
  {
   "cell_type": "markdown",
   "metadata": {},
   "source": [
    "Define $SE = (\\mathcal{K},\\mathcal{E},\\mathcal{D})$ where $\\mathcal{K}$ returns a random 128-bit key K and:<br>\n",
    "\n",
    "**Algorithm** $\\mathcal{E}_K(M)$<br>\n",
    "&nbsp;&nbsp;&nbsp;&nbsp;If $|M|\\neq 512$ then return $\\perp$<br>\n",
    "&nbsp;&nbsp;&nbsp;&nbsp;$M[1]||M[2]||M[3]||M[4]\\leftarrow M$<br>\n",
    "&nbsp;&nbsp;&nbsp;&nbsp;$C_e[0]\\leftarrow\\!\\tiny{\\$}$ $\\{0,1\\}^{128};C_m[0]\\leftarrow0^{128}$<br>\n",
    "&nbsp;&nbsp;&nbsp;&nbsp;For $i=1,2,3,4$ do:<br>\n",
    "&nbsp;&nbsp;&nbsp;&nbsp;&nbsp;&nbsp;&nbsp;&nbsp;$C_e[i]\\leftarrow AES_K(C_e[i-1]\\oplus M[i])$<br>\n",
    "&nbsp;&nbsp;&nbsp;&nbsp;&nbsp;&nbsp;&nbsp;&nbsp;$C_m[i]\\leftarrow AES_K(C_m[i-1]\\oplus M[i])$<br>\n",
    "&nbsp;&nbsp;&nbsp;&nbsp;$C_e\\leftarrow C_e[0]||C_e[1]||C_e[2]||C_e[3]||C_e[4]$<br>\n",
    "&nbsp;&nbsp;&nbsp;&nbsp;$T\\leftarrow C_m[4];$ Return $(C_e,T)$<br>\n",
    "\n",
    "**Algorithm** $\\mathcal{D}_K((C_e,T))$:<br>\n",
    "&nbsp;&nbsp;&nbsp;&nbsp;If $|C_e|\\neq 640$ then return $\\perp$<br>\n",
    "&nbsp;&nbsp;&nbsp;&nbsp;$C_m[0] \\leftarrow 0^{128}$<br>\n",
    "&nbsp;&nbsp;&nbsp;&nbsp;For $i=1,2,3,4$ do:<br>\n",
    "&nbsp;&nbsp;&nbsp;&nbsp;&nbsp;&nbsp;&nbsp;&nbsp;$M[i]\\leftarrow AES_K^{-1}(C_e[i])\\oplus C_e[i-1]$<br>\n",
    "&nbsp;&nbsp;&nbsp;&nbsp;&nbsp;&nbsp;&nbsp;&nbsp;$C_m[i]\\leftarrow AES_K(C_m[i-1]\\oplus M[i])$<br>\n",
    "&nbsp;&nbsp;&nbsp;&nbsp;If $C_m[4]=T$ then return $M[1]||M[2]||M[3]||M[4]$<br>\n",
    "&nbsp;&nbsp;&nbsp;&nbsp;Else return $\\perp$<br>\n",
    "\n",
    "Initialize encoder $\\mathcal{E}_K$ and decoder $\\mathcal{D}_K$ below:"
   ]
  },
  {
   "cell_type": "code",
   "execution_count": null,
   "metadata": {},
   "outputs": [],
   "source": [
    "key_len = 128\n",
    "block_len = 128\n",
    "aes = AES(key_len, block_len)\n",
    "\n",
    "def enc(key, m):\n",
    "\tif len(m) != 512:\n",
    "\t\treturn None\n",
    "\t\n",
    "\tce_0 = random_bits(128)\n",
    "\tcm_0 = '0'*128\n",
    "\tc = ce_0\n",
    "\tfor i in range(4):\n",
    "\t\tencrypted_block =  aes.evaluate(key, xor(ce_0,m[i*block_len: (i+1)*block_len]))\n",
    "\t\tce_0 = encrypted_block  ## updating ce_0 for ce[i-1]\n",
    "\t\tc += encrypted_block\n",
    "\n",
    "\t\tcm_i = aes.evaluate(key, xor(cm_0, m[i*block_len: (i+1)*block_len]))\n",
    "\t\tcm_0 = cm_i\n",
    "\treturn (c, cm_i)\n",
    "\n",
    "def dec(key, c):\n",
    "\tcipher, t = c\n",
    "\tif len(cipher) != 640:\n",
    "\t\treturn None\n",
    "\tcm_0 = '0'*128\n",
    "\tce_0 = cipher[:block_len]\n",
    "\tce = cipher[block_len:]\n",
    "\tm_i = str()\n",
    "\tfor i in range(4):\n",
    "\t\tdecrypted_block = xor(aes.inverse(key, ce[i*block_len: (i+1)*block_len]), ce_0) \n",
    "\t\tm_i += decrypted_block\n",
    "\t\tce_0 = ce[i*block_len: (i+1)*block_len]\n",
    "\n",
    "\t\tcm_i = aes.evaluate(key, xor(cm_0, decrypted_block))\n",
    "\t\tcm_0 = cm_i\n",
    "\tif cm_i == t:\n",
    "\t\treturn m_i\n",
    "\telse:\n",
    "\t\treturn None\n",
    "\t\n"
   ]
  },
  {
   "cell_type": "markdown",
   "metadata": {},
   "source": [
    "### TODO: SE IND-CPA:\n",
    "\n",
    "Is SE IND-CPA secure?<br>\n",
    "If not, provide an adversary in $adv\\_indcpa$ below"
   ]
  },
  {
   "cell_type": "code",
   "execution_count": null,
   "metadata": {},
   "outputs": [],
   "source": [
    "### Is SE IND-CPA secure?\n",
    "\n",
    "game_indcpa = INDCPA(enc, dec, 128, 128, 10)\n",
    "game_indcpa._initialize()\n",
    "\n",
    "def adv_indcpa(game):\n",
    "\t#========= Your Code goes here =======================\n",
    "\tx = random_bits(512)\n",
    "\ty = random_bits(512)\n",
    "\n",
    "\tq1 = game.LR(x, x)\n",
    "\tc1, t1 = q1\n",
    "\n",
    "\tq2 = game.LR(x, y)\n",
    "\tc2, t2 = q2\n",
    "\t# =====================================================\n",
    "\tif t1 == t2:\n",
    "\t\treturn 1\n",
    "\telse: \n",
    "\t\treturn 0\n",
    "\t\n",
    "game_indcpa.finalize(adv_indcpa(game_indcpa))\n",
    "s = Simulate(game_indcpa, adv_indcpa)\n",
    "s.simulate_INDCPA(verbose=True)"
   ]
  },
  {
   "cell_type": "markdown",
   "metadata": {},
   "source": [
    "### Inline Question #1:\n",
    "\n",
    "Is SE IND-CPA Secure? If so, provide a proof.\n",
    "\n",
    "**Response**:"
   ]
  },
  {
   "cell_type": "markdown",
   "metadata": {},
   "source": [
    "### TODO: SE INT-CTXT:\n",
    "\n",
    "Is SE INT-CTXT secure?<br>\n",
    "If not, provide an adversary in $adv\\_intctxt$ below"
   ]
  },
  {
   "cell_type": "code",
   "execution_count": null,
   "metadata": {},
   "outputs": [],
   "source": [
    "game_intctxt = INTCTXT(enc, dec, 128, 20)\n",
    "game_intctxt._initialize()\n",
    "\n",
    "def adv_intctxt(game: INTCTXT):\n",
    "\t#========= Your Code goes here =======================\n",
    "\tx = '0'*512\n",
    "\tcipher, tag = game.Enc(x)\n",
    "\tc_0 = '0'*128\n",
    "\tc_1 = cipher[1*128:2*128]\n",
    "\tc_2 = cipher[2*128: 3*128]\n",
    "\tc_3 = cipher[3*128 : 4*128]\n",
    "\tc_4 = cipher[4*128: 5*128]\n",
    "\tc_prime = c_0 + c_1 + c_2 + c_3 + c_4\n",
    "\tt_prime = c_4\n",
    "\t# =====================================================\n",
    "\treturn (c_prime, t_prime)\n",
    "\n",
    "game_intctxt.finalize(adv_intctxt(game_intctxt))\n",
    "s = Simulate(game_intctxt, adv_intctxt)\n",
    "s.simulate_intctxt(verbose= True)\n"
   ]
  },
  {
   "cell_type": "markdown",
   "metadata": {},
   "source": [
    "### Inline Question #2:\n",
    "\n",
    "Is SE INT-CTXT Secure? If so, provide a proof.\n",
    "\n",
    "**Response**:"
   ]
  }
 ],
 "metadata": {
  "kernelspec": {
   "display_name": "Python 3",
   "language": "python",
   "name": "python3"
  },
  "language_info": {
   "codemirror_mode": {
    "name": "ipython",
    "version": 3
   },
   "file_extension": ".py",
   "mimetype": "text/x-python",
   "name": "python",
   "nbconvert_exporter": "python",
   "pygments_lexer": "ipython3",
   "version": "3.11.5"
  }
 },
 "nbformat": 4,
 "nbformat_minor": 2
}
