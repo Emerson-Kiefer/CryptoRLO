{
 "cells": [
  {
   "cell_type": "code",
   "execution_count": 1,
   "metadata": {},
   "outputs": [],
   "source": [
    "'''\n",
    "We will write a simple function that returns the same value regardless of the input. And we will try to determine which world we are in by playing the prf game\n",
    "'''\n",
    "\n",
    "\n",
    "def prf(key, message):\n",
    "\tb = BlockCipher(len(key), len(message))\n",
    "\tc = b.block_cipher(key, message)\n",
    "\tc = c[:-1]+ '0'\n",
    "\treturn c\n",
    "\n"
   ]
  },
  {
   "cell_type": "code",
   "execution_count": 2,
   "metadata": {},
   "outputs": [],
   "source": [
    "from game.prf import *\n",
    "\n",
    "game = PRF(prf, 5, 5, 4)\n",
    "game._initialize()\n"
   ]
  },
  {
   "cell_type": "code",
   "execution_count": 3,
   "metadata": {},
   "outputs": [],
   "source": [
    "def adv(game):\n",
    "\tx = random_bits(5)\n",
    "\tq1 = game.Fn(x)\n",
    "\tif q1[-1] == '0':\n",
    "\t\treturn 1\n",
    "\telse:\n",
    "\t\treturn 0"
   ]
  },
  {
   "cell_type": "code",
   "execution_count": 4,
   "metadata": {},
   "outputs": [],
   "source": [
    "guess = adv(game)"
   ]
  },
  {
   "cell_type": "code",
   "execution_count": 5,
   "metadata": {},
   "outputs": [
    {
     "name": "stdout",
     "output_type": "stream",
     "text": [
      "Pr[Real => 1] = 489 / 489 = 1.0\n",
      "\n",
      "Pr[Random => 1] = 275 / 511 = 0.538160469667319\n",
      "\n",
      "Adv(A) = 0.461839530332681\n"
     ]
    }
   ],
   "source": [
    "from simulate import *\n",
    "\n",
    "s = Simulate(game, adv)\n",
    "s.simulate_PRF(True)"
   ]
  }
 ],
 "metadata": {
  "kernelspec": {
   "display_name": "Python 3",
   "language": "python",
   "name": "python3"
  },
  "language_info": {
   "codemirror_mode": {
    "name": "ipython",
    "version": 3
   },
   "file_extension": ".py",
   "mimetype": "text/x-python",
   "name": "python",
   "nbconvert_exporter": "python",
   "pygments_lexer": "ipython3",
   "version": "3.11.5"
  }
 },
 "nbformat": 4,
 "nbformat_minor": 2
}
