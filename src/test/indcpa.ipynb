{
 "cells": [
  {
   "cell_type": "code",
   "execution_count": null,
   "metadata": {},
   "outputs": [],
   "source": [
    "%pip install -i https://test.pypi.org/simple/ cryptogames==0.0.8"
   ]
  },
  {
   "cell_type": "markdown",
   "metadata": {},
   "source": [
    "# Integrity of Ciphertext (IND-CPA)\n",
    "\n",
    "This section consists of SE IND-CPA  security games"
   ]
  },
  {
   "cell_type": "code",
   "execution_count": null,
   "metadata": {},
   "outputs": [],
   "source": [
    "from cryptogame.game.indcpa import *\n",
    "from cryptogame.tools.utils import *\n",
    "from cryptogame.tools.block_cipher import *"
   ]
  },
  {
   "cell_type": "markdown",
   "metadata": {},
   "source": [
    "$\\mathcal{SE} = (\\mathcal{K},\\mathcal{E},\\mathcal{D})$ where:<br>\n",
    "\n",
    "**Algorithm** $\\mathcal{E}_K(M)$<br>\n",
    "for $i=1,...,m$ do:<br>\n",
    "&nbsp;&nbsp;&nbsp;&nbsp;$C[i]\\leftarrow E_K(M[i])$<br>\n",
    "return $C$<br>\n",
    "\n",
    "**Algorithm** $\\mathcal{D}_K(C)$\n",
    "for $i=1,...,m$ do:<br>\n",
    "&nbsp;&nbsp;&nbsp;&nbsp;$M[i]\\leftarrow E_K^{-1}(C[i])$<br>\n",
    "return $M$<br>"
   ]
  },
  {
   "cell_type": "code",
   "execution_count": null,
   "metadata": {},
   "outputs": [],
   "source": [
    "# Define the block cipher with key len 10, block len 5. \n",
    "b = BlockCipher(10, 5)\n",
    "\n",
    "def ecb_enc(key, m, block_cipher = b):\n",
    "\t\n",
    "\tq = len(m) // block_cipher.block_len\n",
    "\tC_t = []\n",
    "\tfor i in range(q):\n",
    "\t\tct = block_cipher.evaluate(key, m[i*block_cipher.block_len:(i+1)*block_cipher.block_len])\n",
    "\t\tC_t.append(ct)\n",
    "\treturn C_t\n",
    "\n",
    "def ecb_dec():\n",
    "\tpass\n",
    "\n",
    "\n",
    "# Let's initialize the INDCPA game\n",
    "game = INDCPA(ecb_enc, ecb_dec, key_len=10,msg_len=5, max_queries=2)\n",
    "game._initialize()"
   ]
  },
  {
   "cell_type": "code",
   "execution_count": null,
   "metadata": {},
   "outputs": [],
   "source": [
    "def adv(game):\n",
    "\t'''The adversary will return 1 everytime regardless of the world it is in. '''\n",
    "\treturn 0\n",
    "\t\n",
    "guess = adv(game)\n",
    "\n",
    "game.finalize(guess)"
   ]
  },
  {
   "cell_type": "code",
   "execution_count": null,
   "metadata": {},
   "outputs": [],
   "source": [
    "## Let's simulate the above adversary. The simulation will compute the advantage\n",
    "\n",
    "from simulate import *\n",
    "\n",
    "s = Simulate(game, adv, 10000)\n",
    "s.simulate_INDCPA(True)\n"
   ]
  },
  {
   "cell_type": "code",
   "execution_count": null,
   "metadata": {},
   "outputs": [],
   "source": []
  }
 ],
 "metadata": {
  "kernelspec": {
   "display_name": "Python 3",
   "language": "python",
   "name": "python3"
  },
  "language_info": {
   "codemirror_mode": {
    "name": "ipython",
    "version": 3
   },
   "file_extension": ".py",
   "mimetype": "text/x-python",
   "name": "python",
   "nbconvert_exporter": "python",
   "pygments_lexer": "ipython3",
   "version": "3.9.2"
  }
 },
 "nbformat": 4,
 "nbformat_minor": 2
}
