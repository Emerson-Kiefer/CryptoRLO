{
 "cells": [
  {
   "cell_type": "code",
   "execution_count": null,
   "metadata": {},
   "outputs": [],
   "source": [
    "%pip install -i https://test.pypi.org/simple/ cryptogame==0.0.7"
   ]
  },
  {
   "cell_type": "code",
   "execution_count": null,
   "metadata": {},
   "outputs": [],
   "source": [
    "from cryptogame.game.ufcma import *\n",
    "from cryptogame.tools.utils import *\n",
    "from cryptogame.tools.block_cipher import *\n",
    "from simulate import *\n",
    "from cryptogame.tools.modes_of_operation import CBC_MAC"
   ]
  },
  {
   "cell_type": "code",
   "execution_count": null,
   "metadata": {},
   "outputs": [],
   "source": [
    "key_len = 10\n",
    "msg_len = 10\n",
    "B = BlockCipher(key_len, block_len=msg_len)\n",
    "\n",
    "def cbc_mac(key, M):\n",
    "\t''' No padding'''\n",
    "\tc_0 = '0'*msg_len\n",
    "\tm = len(M) // msg_len\n",
    "\tassert len(M) == m*msg_len\n",
    "\tfor i in range(m):\n",
    "\t\tc_i = B.evaluate(key, xor(c_0, M[i * msg_len : (i + 1) * msg_len]))\n",
    "\t\tc_0 = c_i\n",
    "\treturn c_i\n",
    "\n",
    "game = UFCMA(cbc_mac, key_len, 5)\n",
    "game._initialize()\n",
    "\n",
    "def adv_cbc_mac(game):\n",
    "\t'''Splicing Attack'''\n",
    "\tx = random_bits(msg_len)\n",
    "\tt1 = game.Tag(x)\n",
    "\tM = x + xor(t1, x)\n",
    "\treturn (M, t1)\n",
    "\n",
    "msg, tag = adv_cbc_mac(game)\n",
    "game.finalize(msg, tag)\n",
    "\n",
    "s = Simulate(game, adv_cbc_mac)\n",
    "s.simulate_ufcma(verbose=True)"
   ]
  },
  {
   "cell_type": "markdown",
   "metadata": {},
   "source": [
    "### Homework 4 Problem 2\n"
   ]
  },
  {
   "cell_type": "code",
   "execution_count": null,
   "metadata": {},
   "outputs": [],
   "source": [
    "key_len = 10\n",
    "block_len = 10\n",
    "blockcipher = BlockCipher(key_len, block_len)\n",
    "\n",
    "def mac(key, msg):\n",
    "\tcbc_mac = CBC_MAC(blockcipher)\n",
    "\tt = cbc_mac.Tag_gen(key, msg)\n",
    "\tT = blockcipher.evaluate(key, t)\n",
    "\treturn T\n",
    "\n",
    "game = UFCMA(mac, key_len, 20)\n",
    "\n",
    "game._initialize()"
   ]
  },
  {
   "cell_type": "code",
   "execution_count": null,
   "metadata": {},
   "outputs": [],
   "source": [
    "def adv_mac(game:UFCMA):\n",
    "\tx = random_bits(block_len)\n",
    "\ttag = game.Tag(x)\n",
    "\tm = x+'0'*block_len+xor(tag, x)\n",
    "\treturn m, tag\n",
    "\n",
    "forged_message, tag = adv_mac(game)\n",
    "\n",
    "game.finalize(forged_message, tag)"
   ]
  },
  {
   "cell_type": "code",
   "execution_count": null,
   "metadata": {},
   "outputs": [],
   "source": [
    "s = Simulate(game, adv_mac)\n",
    "s.simulate_ufcma(verbose=True)"
   ]
  },
  {
   "cell_type": "code",
   "execution_count": null,
   "metadata": {},
   "outputs": [],
   "source": []
  }
 ],
 "metadata": {
  "kernelspec": {
   "display_name": "Python 3",
   "language": "python",
   "name": "python3"
  },
  "language_info": {
   "codemirror_mode": {
    "name": "ipython",
    "version": 3
   },
   "file_extension": ".py",
   "mimetype": "text/x-python",
   "name": "python",
   "nbconvert_exporter": "python",
   "pygments_lexer": "ipython3",
   "version": "3.11.5"
  }
 },
 "nbformat": 4,
 "nbformat_minor": 2
}
