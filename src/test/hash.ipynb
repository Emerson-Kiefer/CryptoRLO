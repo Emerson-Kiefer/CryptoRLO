{
 "cells": [
  {
   "cell_type": "markdown",
   "metadata": {},
   "source": [
    "# Hash Functions\n",
    "\n",
    "This section consists of toy hash functions and the cr game. "
   ]
  },
  {
   "cell_type": "code",
   "execution_count": 1,
   "metadata": {},
   "outputs": [],
   "source": [
    "from cryptogame.tools.utils import xor\n",
    "from cryptogame.game.cr import *\n",
    "from simulate import *\n",
    "from cryptogame.tools.block_cipher import *"
   ]
  },
  {
   "cell_type": "markdown",
   "metadata": {},
   "source": [
    "## Hash Example 1\n",
    "Let $E: \\{0, 1\\}^k \\times \\{0,1\\}^n \\rightarrow \\{0,1\\}$ be a blockcipher.<br>\n",
    "Let $H: \\{0, 1\\}^k \\times \\{0,1\\}^{2n} \\rightarrow \\{0,1\\}$ be defined by:<br>\n",
    "\n",
    "&nbsp;&nbsp;&nbsp;&nbsp;**Alg** $H(K,x[1]x[2])$<br>\n",
    "&nbsp;&nbsp;&nbsp;&nbsp;$y \\leftarrow E_K(E_K(x[1]) \\oplus x[2]);$ Return $y$<br>\n",
    "\n",
    "First, initialize the game.\n",
    "\n",
    "\n"
   ]
  },
  {
   "cell_type": "code",
   "execution_count": 2,
   "metadata": {},
   "outputs": [],
   "source": [
    "key_length = 5 \n",
    "block_length = 5\n",
    "\n",
    "## Initialize the block cipher\n",
    "E = BlockCipher(key_len = key_length, block_len= block_length)\n",
    "\n",
    "\n",
    "## Hash function as defined above\n",
    "def H2(K, x):\n",
    "\t'''\n",
    "\tLet E: {0,1}^n * {0,1}^n -> {0,1}^n be a block cipher. \n",
    "\tLet H: {0,1}^k * {0,1}^2n -> {0,1}^n be a hash function. \n",
    "\t'''\n",
    "\n",
    "\tkey_len, block_len, message_len = key_length, block_length, 2*block_length\n",
    "\tassert len(x) == message_len, f\"Expected {message_len} got {len(x)} for messages\"\n",
    "\t\n",
    "\ty = E.evaluate(K, xor(E.evaluate(K, x[0:block_len]), x[block_len:]))\n",
    "\treturn y\n",
    "\n",
    "## Define the CR against H2 with key length 5\n",
    "game = CR(H2, 5)\n",
    "\n",
    "## Initializing the game. Note the adversary has access to the key k. \n",
    "k = game._initialize()\n"
   ]
  },
  {
   "cell_type": "markdown",
   "metadata": {},
   "source": [
    "### TODO: You are required to write the function for the adversary \n",
    "\n",
    "Let's show that $H$ is not collision-resistant by giving an efficient adversary $A$ such that:<br>\n",
    "&nbsp;&nbsp;&nbsp;&nbsp;$\\textbf{Adv}_H^{cr}(A)=1$<br>\n",
    "\n",
    "Using the adversary function **adv_H2**$(game)$ below:<br>\n",
    "&nbsp;&nbsp;&nbsp;&nbsp;Define an efficient adversary that ouptuts two messages $x1$ and $x2$ such that $H(x1) = H(x2)$ <br>\n",
    "\n",
    "Note: Ensure your return values $x1$ and $x2$ are strings of 0s and 1s as input.<br>\n",
    "Ex: $x1 =$ '00000'<br>\n",
    "&nbsp;&nbsp;&nbsp;&nbsp;&nbsp;&nbsp;$x2 =$ '10101'<br>\n",
    "\n",
    "Hint: Since the adversary has access to the key, the adversary can compute $E_k$ and $E_k^{-1}$<br>\n",
    "&nbsp;&nbsp;&nbsp;&nbsp;$E_k(x) = E.evaluate(k,x)$ and <br>\n",
    "&nbsp;&nbsp;&nbsp;&nbsp;$E_k^{-1}(c) = E.inverse(k,c)$\n"
   ]
  },
  {
   "cell_type": "code",
   "execution_count": 3,
   "metadata": {},
   "outputs": [
    {
     "name": "stdout",
     "output_type": "stream",
     "text": [
      "Finalize Returned True\n"
     ]
    }
   ],
   "source": [
    "def adv_H2(game):\n",
    "\t'''\n",
    "\tThis is the adversary against H2.\n",
    "\tDefine and efficient adversary that ouptuts two messages x1 and x1 such that H(x1) = H(x2)\n",
    "\t'''\t\n",
    "\t#========= Your Code goes here =======================\n",
    "\tx_1 = '0'*5 + '1'*5\n",
    "\tx2_2 = '0'*5\n",
    "\n",
    "\tx2_1 = E.inverse(k, xor(xor(E.evaluate(k, x_1[0:5]), x_1[5:]), x2_2))\n",
    "\tx_2 = x2_1 + x2_2\n",
    "\t# =====================================================\n",
    "\treturn x_1, x_2\n",
    "\n",
    "x1, x2 = adv_H2(game)\n",
    "\n",
    "print(\"Finalize Returned\", game.finalize(x1,x2))"
   ]
  },
  {
   "cell_type": "markdown",
   "metadata": {},
   "source": [
    "## Hash Example 2: Keyless Hash Function\n",
    "We say that H: Keys * D -> R is keyless if Keys = {$\\epsilon$}consists of just one key, the empty string.<br>\n",
    "\n",
    "Let $E: \\{0, 1\\}^b \\times \\{0, 1\\}^n \\rightarrow \\{0, 1\\}^n$ be a block cipher.<br>\n",
    "Let us define keyless compression function $h: \\{0, 1\\}^{b+n} \\rightarrow \\{0, 1\\}^n$ by:<br>\n",
    "&nbsp;&nbsp;&nbsp;&nbsp;$h(x||v)=E_x(v)$<br>\n",
    "\n",
    "**Question:** Is $h$ collision resistant?<br>\n",
    "\n",
    "First, we initialize the game."
   ]
  },
  {
   "cell_type": "code",
   "execution_count": 4,
   "metadata": {},
   "outputs": [],
   "source": [
    "b = 5  ## change as required\n",
    "n = 7  ## change as required\n",
    "\n",
    "E = BlockCipher(key_len=b, block_len=n)\n",
    "\n",
    "def H3(K, x):\n",
    "\t'''\n",
    "\tLet E: {0,1}^n * {0,1}^n -> {0,1}^n be a block cipher and \n",
    "\tLet Let H: {0,1}^b+n  -> {0,1}^n be a keyless hash function defined as h(x||v) == E_x(v)\n",
    "\t'''\n",
    "\n",
    "\tkey = x[0:b]\n",
    "\tv = x[b:]\n",
    "\t\n",
    "\tassert len(key) == b \n",
    "\tassert len(v) == n\n",
    "\n",
    "\treturn E.evaluate(key, v)\n",
    "\n",
    "\n",
    "## Let's initiailze the game\n",
    "game = CR(H3, key_len=b)\n",
    "k = game._initialize()\n"
   ]
  },
  {
   "cell_type": "markdown",
   "metadata": {},
   "source": [
    "### TODO: Hash Function 2 Adversary: \n",
    "We seek an adversary that outputs distinct $x_1||v_1,x_2||v_2$ satisfying:<br>\n",
    "&nbsp;&nbsp;&nbsp;&nbsp;$E_{x_1}(v_1)=E_{x_2}(v_2)$<br>\n",
    "\n",
    "Note: Ensure your return values $x1$ and $x2$ are strings of 0s and 1s.<br>"
   ]
  },
  {
   "cell_type": "code",
   "execution_count": 5,
   "metadata": {},
   "outputs": [
    {
     "name": "stdout",
     "output_type": "stream",
     "text": [
      "Finalize Returned True\n"
     ]
    }
   ],
   "source": [
    "\n",
    "def adv_H3(game):\n",
    "\n",
    "\t#========= Your Code goes here =======================\n",
    "\tx1 = '0'*b\n",
    "\tx2 = '1'*b\n",
    "\tv1 = '0'*n\n",
    "\ty = E.evaluate(key=x1, plaintext=v1)\n",
    "\tv2 = E.inverse(key= x2, ciphertext=y)\n",
    "\tx1 += v1\n",
    "\tx2 += v2\n",
    "\t# =====================================================\n",
    "\treturn x1, x2\n",
    "\n",
    "x1, x2 = adv_H3(game)\n",
    "print(\"Finalize Returned\", game.finalize(x1,x2))"
   ]
  },
  {
   "cell_type": "markdown",
   "metadata": {},
   "source": [
    "### Inline Question #1:\n",
    "Is $h$ collision resistant?<br>\n",
    "\n",
    "**Your Response**:"
   ]
  },
  {
   "cell_type": "markdown",
   "metadata": {},
   "source": [
    "## Hash Example 3: (From HW 4 Problem 1)\n",
    "\n",
    "Let $D$ be the set of all strings whose length is a positive multiple of 128. <br>\n",
    "Define hash function $H: \\{0,1\\}^{128}\\times D\\rightarrow \\{0,1\\}^{128}$ as follows:<br>\n",
    "**Algorithm** $H_K(M)$:<br>\n",
    "&nbsp;&nbsp;&nbsp;&nbsp;&nbsp;&nbsp;Parse $M$ as $M[1]M[2]...M[m]$<br>\n",
    "&nbsp;&nbsp;&nbsp;&nbsp;&nbsp;&nbsp;$C[0] \\leftarrow 0^{128}$<br>\n",
    "&nbsp;&nbsp;&nbsp;&nbsp;&nbsp;&nbsp;For $i=1$ to $m$ do:<br>\n",
    "&nbsp;&nbsp;&nbsp;&nbsp;&nbsp;&nbsp;&nbsp;&nbsp;&nbsp;&nbsp;&nbsp;&nbsp;$B[i]\\leftarrow \\textbf{AES}_K(C[i-1]\\oplus M[i])$<br>\n",
    "&nbsp;&nbsp;&nbsp;&nbsp;&nbsp;&nbsp;&nbsp;&nbsp;&nbsp;&nbsp;&nbsp;&nbsp;$C[i]\\leftarrow \\textbf{AES}_K(B[i]\\oplus M[i])$<br>\n",
    "&nbsp;&nbsp;&nbsp;&nbsp;&nbsp;&nbsp;Return $C[M]$<br>\n",
    "\n",
    "\n",
    "In $H_K$, we parse $M$ has consisting of $m$ blocks of 128-bits each.\n",
    "\n",
    "First, initialize the game:"
   ]
  },
  {
   "cell_type": "code",
   "execution_count": 6,
   "metadata": {},
   "outputs": [],
   "source": [
    "from cryptogame.tools.AES import *\n",
    "\n",
    "key_len = 128\n",
    "output_len = 128\n",
    "aes = AES(key_len, block_len=128)\n",
    "\n",
    "def H_K(K, M):\n",
    "\tc_0 = '0'*128\n",
    "\tm = len(M)// key_len\n",
    "\tassert m*key_len == len(M), \"Message length has to be a multiple of 128\"\n",
    "\n",
    "\tfor i in range(m):\n",
    "\t\tB_i = aes.evaluate(K, xor(c_0, M[i*len(K): (i+1)*len(K)]))\n",
    "\t\tC_i = aes.evaluate(K, xor(B_i, M[i*len(K): (i+1)*len(K)]))\n",
    "\t\tc_0 = C_i\n",
    "\treturn C_i\n",
    "\n",
    "game = CR(H_K, key_len = 128)\n",
    "\n"
   ]
  },
  {
   "cell_type": "markdown",
   "metadata": {},
   "source": [
    "### TODO: Hash Function 3 Adversary:\n",
    "\n",
    "Show that $H$ is not collision resistant by giving a practical adversary $A$ below such that its advantage $\\textbf{Adv}_H^{cr}(A)$ is high.<br>\n",
    "\n",
    "Note: Your adversary should break the hash function without breaking the underlying blockcipher as a pseudorandom function.<br>\n",
    "\n",
    "Note: Ensure your return values $x1$ and $x2$ are strings of 0s and 1s as input.<br>"
   ]
  },
  {
   "cell_type": "code",
   "execution_count": 7,
   "metadata": {},
   "outputs": [
    {
     "name": "stdout",
     "output_type": "stream",
     "text": [
      "Finalize Returned True\n"
     ]
    },
    {
     "name": "stdout",
     "output_type": "stream",
     "text": [
      "Pr[CR_H => 1] = 1000 / 1000 = 1.0\n",
      "\n",
      "Adv(A) = 1.0\n"
     ]
    }
   ],
   "source": [
    "def adv_H_K(game):\n",
    "\tkey = game._initialize()\n",
    "\t#========= Your Code goes here =======================\n",
    "\tx1 = aes.inverse( key, '0'*128)\n",
    "\tx2 = aes.inverse( key, '0'*128) + aes.inverse(key, '0'*128)\n",
    "\t# =====================================================\n",
    "\treturn x1, x2\n",
    "\n",
    "x1, x2 = adv_H_K(game)\n",
    "\n",
    "print(\"Finalize Returned\", game.finalize(x1,x2))\n",
    "\n",
    "\n",
    "\n"
   ]
  },
  {
   "cell_type": "code",
   "execution_count": 8,
   "metadata": {},
   "outputs": [
    {
     "name": "stdout",
     "output_type": "stream",
     "text": [
      "Pr[CR_H => 1] = 1000 / 1000 = 1.0\n",
      "\n",
      "Adv(A) = 1.0\n"
     ]
    }
   ],
   "source": [
    "## Let simulate the game with the adversary for 1000 iteration. The simulation will compute the Advantage of the adversary\n",
    "\n",
    "s = Simulate(game, adversary = adv_H_K)\n",
    "s.simulate_cr(verbose=True)"
   ]
  },
  {
   "cell_type": "code",
   "execution_count": null,
   "metadata": {},
   "outputs": [],
   "source": []
  }
 ],
 "metadata": {
  "kernelspec": {
   "display_name": "Python 3",
   "language": "python",
   "name": "python3"
  },
  "language_info": {
   "codemirror_mode": {
    "name": "ipython",
    "version": 3
   },
   "file_extension": ".py",
   "mimetype": "text/x-python",
   "name": "python",
   "nbconvert_exporter": "python",
   "pygments_lexer": "ipython3",
   "version": "3.11.5"
  }
 },
 "nbformat": 4,
 "nbformat_minor": 2
}
